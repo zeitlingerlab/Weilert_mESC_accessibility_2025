{
 "cells": [
  {
   "cell_type": "markdown",
   "metadata": {},
   "source": [
    "# Introduction\n",
    "\n",
    "The goals of this analysis is to generate in silico random input sequences for different simulations using BPNet and ChromBPNet.\n",
    "\n",
    "# Computational setup"
   ]
  },
  {
   "cell_type": "code",
   "execution_count": 1,
   "metadata": {},
   "outputs": [
    {
     "name": "stderr",
     "output_type": "stream",
     "text": [
      "2024-02-23 14:42:12.863376: E external/local_xla/xla/stream_executor/cuda/cuda_dnn.cc:9261] Unable to register cuDNN factory: Attempting to register factory for plugin cuDNN when one has already been registered\n",
      "2024-02-23 14:42:12.863436: E external/local_xla/xla/stream_executor/cuda/cuda_fft.cc:607] Unable to register cuFFT factory: Attempting to register factory for plugin cuFFT when one has already been registered\n",
      "2024-02-23 14:42:12.864760: E external/local_xla/xla/stream_executor/cuda/cuda_blas.cc:1515] Unable to register cuBLAS factory: Attempting to register factory for plugin cuBLAS when one has already been registered\n",
      "2024-02-23 14:42:12.875151: I tensorflow/core/platform/cpu_feature_guard.cc:182] This TensorFlow binary is optimized to use available CPU instructions in performance-critical operations.\n",
      "To enable the following instructions: AVX2 AVX512F FMA, in other operations, rebuild TensorFlow with the appropriate compiler flags.\n",
      "2024-02-23 14:42:14.476522: W tensorflow/compiler/tf2tensorrt/utils/py_utils.cc:38] TF-TRT Warning: Could not find TensorRT\n"
     ]
    }
   ],
   "source": [
    "%load_ext autoreload\n",
    "%autoreload 2\n",
    "%reload_ext autoreload\n",
    "\n",
    "import warnings\n",
    "warnings.filterwarnings(\"ignore\")\n",
    "from tensorflow.python.util import deprecation\n",
    "deprecation._PRINT_DEPRECATION_WARNINGS = False\n",
    "\n",
    "#Packages\n",
    "import os\n",
    "import sys\n",
    "import keras\n",
    "import json\n",
    "import pandas as pd\n",
    "import numpy as np\n",
    "import random\n",
    "import itertools\n",
    "import glob\n",
    "import keras.backend as K\n",
    "from keras.models import load_model\n",
    "from tqdm import tqdm\n",
    "\n",
    "import plotnine\n",
    "from plotnine import *\n",
    "\n",
    "# Settings\n",
    "\n",
    "## Working options\n",
    "os.chdir(f'/n/projects/mw2098/publications/2024_weilert_acc/code/2_analysis/')\n",
    "pd.set_option('display.max_columns', 100)\n",
    "bpreveal_path = '/n/projects/mw2098/publications/2024_weilert_acc/public/software/bpreveal_404/'\n",
    "python_path = '/home/mw2098/anaconda3/envs/bpreveal_404/bin/python'\n",
    "\n",
    "## Custom functions\n",
    "sys.path.insert(0, f'{bpreveal_path}/src')\n",
    "import losses\n",
    "\n",
    "sys.path.insert(0, f'scripts/py/functions')\n",
    "from perturb import generate_random_seq\n",
    "from functional import one_hot_encode_sequences, one_hot_encode_sequence, one_hot_decode_sequence, shuffle_seqs\n",
    "from motifs import extract_seqs_from_df, resize_coordinates\n",
    "\n",
    "## Custom variables\n",
    "figure_path = 'figures/6_generate_trials'\n",
    "genome = '../0_setup/fa/mm10.fa'\n",
    "regions_path = 'bed/bpreveal/bpnet_osknz_fold1_all.bed'\n",
    "input_length = 2032\n",
    "output_length = 1000\n",
    "trials = 256\n",
    "seed = 2356\n",
    "\n",
    "## Filesystem commands\n",
    "!mkdir -p npz {figure_path}"
   ]
  },
  {
   "cell_type": "markdown",
   "metadata": {},
   "source": [
    "# Generate sequences with varying CG-content and CpG-ratios\n",
    "\n",
    "Here, we will set up a case that generates random sequences. The random sequence will be kept if we:\n",
    "\n",
    "+ vary CG-content\n",
    "+ check for desired CpG island enrichment\n",
    "+ keep if sequences don't contain blacklisted feature"
   ]
  },
  {
   "cell_type": "markdown",
   "metadata": {},
   "source": [
    "## Function to calculate CpG ratios\n",
    "\n",
    "CpG density was manually calculated based on the 2006 publication that originated this particular density function (https://www.pnas.org/doi/full/10.1073/pnas.0510310103)."
   ]
  },
  {
   "cell_type": "code",
   "execution_count": 2,
   "metadata": {},
   "outputs": [],
   "source": [
    "def calculate_cpg_ratio(C_counts, G_counts, CpG_counts, region_width = 1000):\n",
    "    cpg_ratio = CpG_counts / ((((C_counts + G_counts)/2)**2)/region_width)\n",
    "    cpg_ratio = np.round(cpg_ratio,2)\n",
    "    return(cpg_ratio)"
   ]
  },
  {
   "cell_type": "markdown",
   "metadata": {},
   "source": [
    "## Define scope of generated random sequences\n",
    "\n",
    "What levels of CpG ratios and GC contents do we want to consider when comparing differences? We will select a linear gradient of increasing GC content and CpG ratios since the relationship is linked between these two features. \n",
    "\n",
    "First, we will briefly summarize data to examine GC content and how it relates to CpG ratios."
   ]
  },
  {
   "cell_type": "code",
   "execution_count": 3,
   "metadata": {},
   "outputs": [],
   "source": [
    "regions_df = pd.read_csv(regions_path, sep = '\\t', names=['chrom', 'start', 'end', 'name', 'score', 'strand'])\n",
    "regions_df = resize_coordinates(regions_df, width = input_length, fix = 'center')\n",
    "region_seqs = extract_seqs_from_df(coords_df = regions_df, \n",
    "                                   fasta_path = genome, \n",
    "                                   chrom_column = 'chrom', \n",
    "                                   start_column = 'start', \n",
    "                                   end_column = 'end')"
   ]
  },
  {
   "cell_type": "code",
   "execution_count": 4,
   "metadata": {},
   "outputs": [
    {
     "data": {
      "text/html": [
       "<div>\n",
       "<style scoped>\n",
       "    .dataframe tbody tr th:only-of-type {\n",
       "        vertical-align: middle;\n",
       "    }\n",
       "\n",
       "    .dataframe tbody tr th {\n",
       "        vertical-align: top;\n",
       "    }\n",
       "\n",
       "    .dataframe thead th {\n",
       "        text-align: right;\n",
       "    }\n",
       "</style>\n",
       "<table border=\"1\" class=\"dataframe\">\n",
       "  <thead>\n",
       "    <tr style=\"text-align: right;\">\n",
       "      <th></th>\n",
       "      <th>chrom</th>\n",
       "      <th>start</th>\n",
       "      <th>end</th>\n",
       "      <th>strand</th>\n",
       "      <th>name</th>\n",
       "      <th>score</th>\n",
       "    </tr>\n",
       "  </thead>\n",
       "  <tbody>\n",
       "    <tr>\n",
       "      <th>0</th>\n",
       "      <td>chr1</td>\n",
       "      <td>3034890</td>\n",
       "      <td>3036922</td>\n",
       "      <td>.</td>\n",
       "      <td>.</td>\n",
       "      <td>1000</td>\n",
       "    </tr>\n",
       "    <tr>\n",
       "      <th>1</th>\n",
       "      <td>chr1</td>\n",
       "      <td>3051574</td>\n",
       "      <td>3053606</td>\n",
       "      <td>.</td>\n",
       "      <td>.</td>\n",
       "      <td>1000</td>\n",
       "    </tr>\n",
       "    <tr>\n",
       "      <th>2</th>\n",
       "      <td>chr1</td>\n",
       "      <td>3051574</td>\n",
       "      <td>3053606</td>\n",
       "      <td>.</td>\n",
       "      <td>.</td>\n",
       "      <td>937</td>\n",
       "    </tr>\n",
       "    <tr>\n",
       "      <th>3</th>\n",
       "      <td>chr1</td>\n",
       "      <td>3051575</td>\n",
       "      <td>3053607</td>\n",
       "      <td>.</td>\n",
       "      <td>.</td>\n",
       "      <td>1000</td>\n",
       "    </tr>\n",
       "    <tr>\n",
       "      <th>4</th>\n",
       "      <td>chr1</td>\n",
       "      <td>3058693</td>\n",
       "      <td>3060725</td>\n",
       "      <td>.</td>\n",
       "      <td>.</td>\n",
       "      <td>635</td>\n",
       "    </tr>\n",
       "  </tbody>\n",
       "</table>\n",
       "</div>"
      ],
      "text/plain": [
       "  chrom    start      end strand name  score\n",
       "0  chr1  3034890  3036922      .    .   1000\n",
       "1  chr1  3051574  3053606      .    .   1000\n",
       "2  chr1  3051574  3053606      .    .    937\n",
       "3  chr1  3051575  3053607      .    .   1000\n",
       "4  chr1  3058693  3060725      .    .    635"
      ]
     },
     "execution_count": 4,
     "metadata": {},
     "output_type": "execute_result"
    }
   ],
   "source": [
    "regions_df.head()"
   ]
  },
  {
   "cell_type": "code",
   "execution_count": 5,
   "metadata": {},
   "outputs": [],
   "source": [
    "regions_df['C'] = [seq.count('C') for seq in region_seqs]\n",
    "regions_df['G'] = [seq.count('G') for seq in region_seqs]\n",
    "regions_df['CG'] = [seq.count('CG') for seq in region_seqs]\n",
    "regions_df['GC_content'] = (regions_df['C'] + regions_df['G'])/input_length\n",
    "regions_df['CpG_ratio'] =  regions_df['CG'] / ((((regions_df['C'] + regions_df['G']) / 2) ** 2) / input_length)\n",
    "regions_df['CpG_ratio_rounded'] =  regions_df['CpG_ratio'].round(2)"
   ]
  },
  {
   "cell_type": "code",
   "execution_count": 6,
   "metadata": {},
   "outputs": [
    {
     "data": {
      "text/html": [
       "<div>\n",
       "<style scoped>\n",
       "    .dataframe tbody tr th:only-of-type {\n",
       "        vertical-align: middle;\n",
       "    }\n",
       "\n",
       "    .dataframe tbody tr th {\n",
       "        vertical-align: top;\n",
       "    }\n",
       "\n",
       "    .dataframe thead th {\n",
       "        text-align: right;\n",
       "    }\n",
       "</style>\n",
       "<table border=\"1\" class=\"dataframe\">\n",
       "  <thead>\n",
       "    <tr style=\"text-align: right;\">\n",
       "      <th></th>\n",
       "      <th>CpG_ratio_rounded</th>\n",
       "      <th>GC_content</th>\n",
       "    </tr>\n",
       "  </thead>\n",
       "  <tbody>\n",
       "    <tr>\n",
       "      <th>0</th>\n",
       "      <td>0.00</td>\n",
       "      <td>0.396161</td>\n",
       "    </tr>\n",
       "    <tr>\n",
       "      <th>1</th>\n",
       "      <td>0.01</td>\n",
       "      <td>0.393455</td>\n",
       "    </tr>\n",
       "    <tr>\n",
       "      <th>2</th>\n",
       "      <td>0.02</td>\n",
       "      <td>0.407480</td>\n",
       "    </tr>\n",
       "    <tr>\n",
       "      <th>3</th>\n",
       "      <td>0.03</td>\n",
       "      <td>0.414370</td>\n",
       "    </tr>\n",
       "    <tr>\n",
       "      <th>4</th>\n",
       "      <td>0.04</td>\n",
       "      <td>0.406988</td>\n",
       "    </tr>\n",
       "  </tbody>\n",
       "</table>\n",
       "</div>"
      ],
      "text/plain": [
       "   CpG_ratio_rounded  GC_content\n",
       "0               0.00    0.396161\n",
       "1               0.01    0.393455\n",
       "2               0.02    0.407480\n",
       "3               0.03    0.414370\n",
       "4               0.04    0.406988"
      ]
     },
     "execution_count": 6,
     "metadata": {},
     "output_type": "execute_result"
    }
   ],
   "source": [
    "gc_vs_cpg_df = regions_df[['CpG_ratio_rounded', 'GC_content']].groupby('CpG_ratio_rounded').median().reset_index()\n",
    "gc_vs_cpg_df.head()"
   ]
  },
  {
   "cell_type": "code",
   "execution_count": 7,
   "metadata": {},
   "outputs": [],
   "source": [
    "plotnine.options.figure_size = (6, 3)\n",
    "gc_vs_cpg_plot = (ggplot(data = gc_vs_cpg_df, mapping = aes(x = 'GC_content', y = 'CpG_ratio_rounded'))+\n",
    "    geom_point()+\n",
    "    theme_classic()\n",
    ")\n",
    "gc_vs_cpg_plot.save(f'{figure_path}/GC_vs_CpG.png')\n",
    "gc_vs_cpg_plot.save(f'{figure_path}/GC_vs_CpG.pdf')"
   ]
  },
  {
   "cell_type": "code",
   "execution_count": 8,
   "metadata": {},
   "outputs": [
    {
     "data": {
      "image/png": "[encoded data removed]",
      "text/plain": [
       "<Figure size 600x300 with 1 Axes>"
      ]
     },
     "metadata": {
      "image/png": {
       "height": 300,
       "width": 600
      }
     },
     "output_type": "display_data"
    },
    {
     "name": "stdout",
     "output_type": "stream",
     "text": [
      "\n"
     ]
    }
   ],
   "source": [
    "print(gc_vs_cpg_plot)"
   ]
  },
  {
   "cell_type": "markdown",
   "metadata": {},
   "source": [
    "Here, we can see that the CpG ratio depends on the GC content of the sequences. Given the distribution across the genome relative to the above summarization, we will select 4 levels of CpG ratio/GC content features."
   ]
  },
  {
   "cell_type": "code",
   "execution_count": 9,
   "metadata": {},
   "outputs": [
    {
     "data": {
      "text/html": [
       "<div>\n",
       "<style scoped>\n",
       "    .dataframe tbody tr th:only-of-type {\n",
       "        vertical-align: middle;\n",
       "    }\n",
       "\n",
       "    .dataframe tbody tr th {\n",
       "        vertical-align: top;\n",
       "    }\n",
       "\n",
       "    .dataframe thead th {\n",
       "        text-align: right;\n",
       "    }\n",
       "</style>\n",
       "<table border=\"1\" class=\"dataframe\">\n",
       "  <thead>\n",
       "    <tr style=\"text-align: right;\">\n",
       "      <th></th>\n",
       "      <th>CpG_ratio_lower</th>\n",
       "      <th>CpG_ratio_upper</th>\n",
       "      <th>GC_content_lower</th>\n",
       "      <th>GC_content_upper</th>\n",
       "      <th>group_id</th>\n",
       "    </tr>\n",
       "  </thead>\n",
       "  <tbody>\n",
       "    <tr>\n",
       "      <th>0</th>\n",
       "      <td>0</td>\n",
       "      <td>0.25</td>\n",
       "      <td>0.4</td>\n",
       "      <td>0.45</td>\n",
       "      <td>low</td>\n",
       "    </tr>\n",
       "    <tr>\n",
       "      <th>1</th>\n",
       "      <td>0.25</td>\n",
       "      <td>0.5</td>\n",
       "      <td>0.45</td>\n",
       "      <td>0.525</td>\n",
       "      <td>mid</td>\n",
       "    </tr>\n",
       "    <tr>\n",
       "      <th>2</th>\n",
       "      <td>0.5</td>\n",
       "      <td>1.2</td>\n",
       "      <td>0.525</td>\n",
       "      <td>0.65</td>\n",
       "      <td>high</td>\n",
       "    </tr>\n",
       "  </tbody>\n",
       "</table>\n",
       "</div>"
      ],
      "text/plain": [
       "  CpG_ratio_lower CpG_ratio_upper GC_content_lower GC_content_upper group_id\n",
       "0               0            0.25              0.4             0.45      low\n",
       "1            0.25             0.5             0.45            0.525      mid\n",
       "2             0.5             1.2            0.525             0.65     high"
      ]
     },
     "execution_count": 9,
     "metadata": {},
     "output_type": "execute_result"
    }
   ],
   "source": [
    "composition_df = pd.DataFrame([[0, .25, .5], [.25, .5, 1.2], [.4, .45, .525], [.45, .525, .65], ['low', 'mid', 'high']]).transpose()\n",
    "composition_df.columns = ['CpG_ratio_lower', 'CpG_ratio_upper', 'GC_content_lower', 'GC_content_upper', 'group_id']\n",
    "composition_df"
   ]
  },
  {
   "cell_type": "code",
   "execution_count": 10,
   "metadata": {},
   "outputs": [],
   "source": [
    "composition_df.to_csv('tsv/random_seq_composition.tsv', index = False, sep = '\\t')"
   ]
  },
  {
   "cell_type": "markdown",
   "metadata": {},
   "source": [
    "## Generate random sequences based on GC content and CpG ratios\n",
    "\n",
    "We previously tried to generate these sequences truly randomly, but then the GC and CpG features would not agree. There was large incompatibility with getting the above plot relationship to work, so clearly there is a design in base genomic composition that extends beyond \"random allocation of nucleotides\". Because of this, and because the model was trained with these in vivo sequences and not random sequences, we chose to generate our random set by selecting a random island and shuffling that island. We iterate through different islands until they match our criteria and then save them to our arrays."
   ]
  },
  {
   "cell_type": "markdown",
   "metadata": {},
   "source": [
    "Next, we want to loop through these desired criteria. For each iteration, a sequence needs to:\n",
    "+ match GC content\n",
    "+ match CpG content\n",
    "+ be derived from a region sequence that is shuffled"
   ]
  },
  {
   "cell_type": "code",
   "execution_count": null,
   "metadata": {},
   "outputs": [
    {
     "name": "stdout",
     "output_type": "stream",
     "text": [
      "Seq length 2562032 ,  0.4 ,  0\n",
      "Seq length 2562032 ,  0.45 ,  0.25\n",
      "Seq length 234"
     ]
    }
   ],
   "source": [
    "# %%script false --no-raise-error\n",
    "\n",
    "for i,row in composition_df.iterrows():\n",
    "    np.random.seed(seed)\n",
    "    group_id = row['group_id']\n",
    "    cpg_min = row['CpG_ratio_lower']\n",
    "    cpg_max = row['CpG_ratio_upper']\n",
    "    gc_min = row['GC_content_lower']\n",
    "    gc_max = row['GC_content_upper'] \n",
    "\n",
    "    # ACGT_weights = [(1-gc)/2, gc/2, gc/2, (1-gc)/2]\n",
    "    \n",
    "    npz_path = f'npz/random_seqs_seed_{seed}_input_{input_length}_trials_{trials}_group_{group_id}_gc_{gc_min}_to_{gc_max}_cpg_{cpg_min}_to_{cpg_max}_array.npz'\n",
    "    \n",
    "    if not os.path.exists(npz_path):\n",
    "        seqs = []\n",
    "        while len(seqs)<trials:\n",
    "\n",
    "            #Shuffle a randomly selected sequence and see if it satisfies criteria\n",
    "            seq_1he = one_hot_encode_sequence(np.random.choice(region_seqs, 1)[0])\n",
    "            shuffle_1he = shuffle_seqs(seq_1he, num_shufs=1, k=2)[0]\n",
    "\n",
    "            candidate_seq = one_hot_decode_sequence(shuffle_1he)\n",
    "            C_counts = candidate_seq.count('C')\n",
    "            G_counts = candidate_seq.count('G')\n",
    "            \n",
    "            GC_content = (C_counts + G_counts)/input_length\n",
    "            gc_match = (GC_content >= gc_min) & (GC_content <= gc_max)\n",
    "\n",
    "            CpG_counts = candidate_seq.count('CG')\n",
    "            cpg_ratio = calculate_cpg_ratio(C_counts = C_counts, G_counts = G_counts, \n",
    "                                            CpG_counts = CpG_counts, region_width = input_length)\n",
    "            cpg_match = (cpg_ratio>=cpg_min) & (cpg_ratio <= cpg_max)\n",
    "\n",
    "#             Keep sequence if the large and small window both match CpG and CG levels within a certain tolerance\n",
    "#             This approach maintains same sequences across trials.\n",
    "#             if (not any(s in candidate_seq for s in blacklisted_seqs)) & cpg_match :\n",
    "            if cpg_match & gc_match:\n",
    "                seqs = seqs + [candidate_seq]\n",
    "                seqs = list(set(seqs)) #In case an identical sequence gets picked.\n",
    "                sys.stdout.write(\"\\rSeq length %i\" % len(seqs))\n",
    "                sys.stdout.flush()\n",
    "        seqs_1he = one_hot_encode_sequences(seqs)\n",
    "        np.savez(npz_path, seqs_1he = seqs_1he)\n",
    "        print(input_length, ', ', gc_min, ', ', cpg_min)"
   ]
  },
  {
   "cell_type": "markdown",
   "metadata": {},
   "source": [
    "Baseline prediction levels of these random sequences will be visualized in later analysis."
   ]
  },
  {
   "cell_type": "code",
   "execution_count": null,
   "metadata": {},
   "outputs": [],
   "source": []
  },
  {
   "cell_type": "code",
   "execution_count": null,
   "metadata": {},
   "outputs": [],
   "source": []
  },
  {
   "cell_type": "code",
   "execution_count": null,
   "metadata": {},
   "outputs": [],
   "source": []
  }
 ],
 "metadata": {
  "kernelspec": {
   "display_name": "Python [conda env:bpreveal_404] *",
   "language": "python",
   "name": "conda-env-bpreveal_404-py"
  },
  "language_info": {
   "codemirror_mode": {
    "name": "ipython",
    "version": 3
   },
   "file_extension": ".py",
   "mimetype": "text/x-python",
   "name": "python",
   "nbconvert_exporter": "python",
   "pygments_lexer": "ipython3",
   "version": "3.11.7"
  }
 },
 "nbformat": 4,
 "nbformat_minor": 4
}
